{
 "cells": [
  {
   "cell_type": "markdown",
   "id": "708eb728",
   "metadata": {},
   "source": [
    "# Playing Around!"
   ]
  },
  {
   "cell_type": "code",
   "execution_count": null,
   "id": "706998f2",
   "metadata": {},
   "outputs": [],
   "source": [
    "import pandas as pd\n",
    "\n"
   ]
  }
 ],
 "metadata": {
  "language_info": {
   "name": "python"
  }
 },
 "nbformat": 4,
 "nbformat_minor": 5
}
